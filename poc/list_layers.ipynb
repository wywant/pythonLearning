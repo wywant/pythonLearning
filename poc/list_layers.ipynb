{
 "cells": [
  {
   "cell_type": "code",
   "execution_count": 1,
   "metadata": {},
   "outputs": [],
   "source": [
    "# https://docs.python.org/3/library/inspect.html\n",
    "import inspect\n",
    "import tensorflow.keras.layers as layers"
   ]
  },
  {
   "cell_type": "code",
   "execution_count": 2,
   "metadata": {},
   "outputs": [
    {
     "name": "stdout",
     "output_type": "stream",
     "text": [
      "Activation\n",
      "ActivityRegularization\n",
      "AlphaDropout\n",
      "BatchNormalization\n",
      "Cropping1D\n",
      "Cropping2D\n",
      "Cropping3D\n",
      "Dense\n",
      "Dropout\n",
      "ELU\n",
      "Embedding\n",
      "Flatten\n",
      "GRUCell\n",
      "GaussianDropout\n",
      "GaussianNoise\n",
      "InputLayer\n",
      "LSTMCell\n",
      "Lambda\n",
      "LeakyReLU\n",
      "LocallyConnected1D\n",
      "LocallyConnected2D\n",
      "Masking\n",
      "PReLU\n",
      "Permute\n",
      "RNN\n",
      "ReLU\n",
      "RepeatVector\n",
      "Reshape\n",
      "SimpleRNNCell\n",
      "Softmax\n",
      "StackedRNNCells\n",
      "ThresholdedReLU\n",
      "UpSampling1D\n",
      "UpSampling2D\n",
      "UpSampling3D\n",
      "Wrapper\n",
      "ZeroPadding1D\n",
      "ZeroPadding2D\n",
      "ZeroPadding3D\n"
     ]
    }
   ],
   "source": [
    "names = dir(layers)\n",
    "classesInPackage = []\n",
    "for name in names:\n",
    "    attr = getattr(layers, name)\n",
    "    if inspect.isclass(attr) and attr.__base__ == layers.Layer:\n",
    "        #print(attr)\n",
    "        classesInPackage.append(attr)\n",
    "        print(name)\n",
    "#layerSubClasses = []\n",
    "#for classInPackage in classesInPackage:\n",
    "#    if classInPackage.__base__ == layers.Layer:\n",
    "#        layerSubClasses.append(classInPackage)\n",
    "#        print(classInPackage)"
   ]
  },
  {
   "cell_type": "code",
   "execution_count": null,
   "metadata": {},
   "outputs": [],
   "source": []
  }
 ],
 "metadata": {
  "kernelspec": {
   "display_name": "Python 3",
   "language": "python",
   "name": "python3"
  },
  "language_info": {
   "codemirror_mode": {
    "name": "ipython",
    "version": 3
   },
   "file_extension": ".py",
   "mimetype": "text/x-python",
   "name": "python",
   "nbconvert_exporter": "python",
   "pygments_lexer": "ipython3",
   "version": "3.6.6"
  }
 },
 "nbformat": 4,
 "nbformat_minor": 2
}
