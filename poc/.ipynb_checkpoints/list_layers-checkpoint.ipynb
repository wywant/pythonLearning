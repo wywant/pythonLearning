{
 "cells": [
  {
   "cell_type": "code",
   "execution_count": null,
   "metadata": {},
   "outputs": [],
   "source": [
    "# https://docs.python.org/3/library/inspect.html\n",
    "import inspect\n",
    "import tensorflow.keras.layers as layers"
   ]
  },
  {
   "cell_type": "code",
   "execution_count": null,
   "metadata": {},
   "outputs": [],
   "source": [
    "names = dir(layers)\n",
    "classesInPackage = []\n",
    "for name in names:\n",
    "    attr = getattr(layers, name)\n",
    "    if inspect.isclass(attr) and attr.__base__ == layers.Layer:\n",
    "        #print(attr)\n",
    "        classesInPackage.append(attr)\n",
    "        print(name)\n",
    "#layerSubClasses = []\n",
    "#for classInPackage in classesInPackage:\n",
    "#    if classInPackage.__base__ == layers.Layer:\n",
    "#        layerSubClasses.append(classInPackage)\n",
    "#        print(classInPackage)"
   ]
  },
  {
   "cell_type": "code",
   "execution_count": null,
   "metadata": {},
   "outputs": [],
   "source": []
  }
 ],
 "metadata": {
  "kernelspec": {
   "display_name": "Python 3",
   "language": "python",
   "name": "python3"
  },
  "language_info": {
   "codemirror_mode": {
    "name": "ipython",
    "version": 3
   },
   "file_extension": ".py",
   "mimetype": "text/x-python",
   "name": "python",
   "nbconvert_exporter": "python",
   "pygments_lexer": "ipython3",
   "version": "3.6.6"
  }
 },
 "nbformat": 4,
 "nbformat_minor": 2
}
