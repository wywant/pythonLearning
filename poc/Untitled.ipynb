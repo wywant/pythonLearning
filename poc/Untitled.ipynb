{
 "cells": [
  {
   "cell_type": "code",
   "execution_count": 16,
   "metadata": {},
   "outputs": [],
   "source": [
    "# https://docs.python.org/3/library/inspect.html\n",
    "import inspect\n",
    "import tensorflow.keras.layers as layers\n"
   ]
  },
  {
   "cell_type": "code",
   "execution_count": 26,
   "metadata": {},
   "outputs": [
    {
     "name": "stdout",
     "output_type": "stream",
     "text": [
      "(self, units, activation=None, use_bias=True, kernel_initializer='glorot_uniform', bias_initializer='zeros', kernel_regularizer=None, bias_regularizer=None, activity_regularizer=None, kernel_constraint=None, bias_constraint=None, **kwargs)\n",
      "<class 'inspect.Signature'>\n",
      "units\n",
      "activation\n",
      "use_bias\n",
      "kernel_initializer\n",
      "bias_initializer\n",
      "kernel_regularizer\n",
      "bias_regularizer\n",
      "activity_regularizer\n",
      "kernel_constraint\n",
      "bias_constraint\n"
     ]
    }
   ],
   "source": [
    "cs = []\n",
    "cs.append(inspect.signature(layers.Dense.__init__))\n",
    "\n",
    "signature = inspect.signature(layers.Dense.__init__)\n",
    "\n",
    "type(signature)\n",
    "print(signature)\n",
    "print(type(signature))\n",
    "arguments = {}\n",
    "for k in signature.parameters:\n",
    "    if k == 'self':\n",
    "        continue;\n",
    "    if k == 'kwargs':\n",
    "        continue;\n",
    "    print(k)\n",
    "#    print(type(k))\n",
    "#print(signature)\n",
    "#print(signature.parameters)\n",
    "#print(signature.args)"
   ]
  },
  {
   "cell_type": "code",
   "execution_count": null,
   "metadata": {},
   "outputs": [],
   "source": []
  }
 ],
 "metadata": {
  "kernelspec": {
   "display_name": "Python 3",
   "language": "python",
   "name": "python3"
  },
  "language_info": {
   "codemirror_mode": {
    "name": "ipython",
    "version": 3
   },
   "file_extension": ".py",
   "mimetype": "text/x-python",
   "name": "python",
   "nbconvert_exporter": "python",
   "pygments_lexer": "ipython3",
   "version": "3.5.2"
  }
 },
 "nbformat": 4,
 "nbformat_minor": 2
}
