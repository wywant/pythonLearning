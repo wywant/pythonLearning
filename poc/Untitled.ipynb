{
 "cells": [
  {
   "cell_type": "code",
   "execution_count": 1,
   "metadata": {},
   "outputs": [
    {
     "name": "stdout",
     "output_type": "stream",
     "text": [
      "<class 'tensorflow.python.keras.layers.convolutional.Cropping2D'>\n",
      "<class 'tensorflow.python.keras.layers.convolutional.Cropping3D'>\n",
      "<class 'tensorflow.python.keras.layers.local.LocallyConnected1D'>\n",
      "<class 'tensorflow.python.keras.layers.local.LocallyConnected2D'>\n",
      "<class 'tensorflow.python.keras.layers.convolutional.UpSampling2D'>\n",
      "<class 'tensorflow.python.keras.layers.convolutional.UpSampling3D'>\n",
      "<class 'tensorflow.python.keras.layers.convolutional.ZeroPadding2D'>\n",
      "<class 'tensorflow.python.keras.layers.convolutional.ZeroPadding3D'>\n",
      "<class 'tensorflow.python.keras.layers.convolutional.Cropping1D'>\n",
      "<class 'tensorflow.python.keras.layers.core.Flatten'>\n",
      "<class 'tensorflow.python.keras.layers.normalization.BatchNormalization'>\n",
      "<class 'tensorflow.python.keras.layers.recurrent.GRUCell'>\n",
      "<class 'tensorflow.python.keras.layers.recurrent.LSTMCell'>\n",
      "<class 'tensorflow.python.keras.layers.recurrent.SimpleRNNCell'>\n",
      "<class 'tensorflow.python.keras.layers.core.Dense'>\n",
      "<class 'tensorflow.python.keras.layers.embeddings.Embedding'>\n",
      "<class 'tensorflow.python.keras.engine.input_layer.InputLayer'>\n",
      "<class 'tensorflow.python.keras.layers.recurrent.RNN'>\n",
      "<class 'tensorflow.python.keras.layers.core.Lambda'>\n",
      "<class 'tensorflow.python.keras.layers.advanced_activations.PReLU'>\n",
      "<class 'tensorflow.python.keras.layers.noise.AlphaDropout'>\n",
      "<class 'tensorflow.python.keras.layers.core.Dropout'>\n",
      "<class 'tensorflow.python.keras.layers.advanced_activations.ReLU'>\n",
      "<class 'tensorflow.python.keras.layers.core.ActivityRegularization'>\n",
      "<class 'tensorflow.python.keras.layers.core.Activation'>\n",
      "<class 'tensorflow.python.keras.layers.advanced_activations.ELU'>\n",
      "<class 'tensorflow.python.keras.layers.noise.GaussianDropout'>\n",
      "<class 'tensorflow.python.keras.layers.noise.GaussianNoise'>\n",
      "<class 'tensorflow.python.keras.layers.advanced_activations.LeakyReLU'>\n",
      "<class 'tensorflow.python.keras.layers.core.Masking'>\n",
      "<class 'tensorflow.python.keras.layers.core.Permute'>\n",
      "<class 'tensorflow.python.keras.layers.core.RepeatVector'>\n",
      "<class 'tensorflow.python.keras.layers.core.Reshape'>\n",
      "<class 'tensorflow.python.keras.layers.advanced_activations.Softmax'>\n",
      "<class 'tensorflow.python.keras.layers.recurrent.StackedRNNCells'>\n",
      "<class 'tensorflow.python.keras.layers.advanced_activations.ThresholdedReLU'>\n",
      "<class 'tensorflow.python.keras.layers.convolutional.UpSampling1D'>\n",
      "<class 'tensorflow.python.keras.layers.wrappers.Wrapper'>\n",
      "<class 'tensorflow.python.keras.layers.convolutional.ZeroPadding1D'>\n"
     ]
    }
   ],
   "source": [
    "# https://qiita.com/giwa/items/afd1476c5211e28361ba\n",
    "import inspect\n",
    "import tensorflow.keras.layers as layers\n",
    "\n",
    "def getArgument(c):\n",
    "    signature = inspect.signature(c.__init__)\n",
    "    args = []\n",
    "    for k in signature.parameters:\n",
    "        if k == 'self':\n",
    "            continue\n",
    "        if k == 'kwargs':\n",
    "            continue\n",
    "        args.append(k)\n",
    "    return args\n",
    "\n",
    "\n",
    "\n",
    "classes = [layers.Activation,layers.ActivityRegularization,layers.AlphaDropout,layers.BatchNormalization,layers.Cropping1D,layers.Cropping2D,layers.Cropping3D,layers.Dense,layers.Dropout,      layers.ELU,layers.Embedding,layers.Flatten,layers.GRUCell,layers.GaussianDropout,layers.GaussianNoise,layers.InputLayer,layers.LSTMCell,layers.Lambda,layers.LeakyReLU,layers.LocallyConnected1D,layers.LocallyConnected2D,layers.Masking,layers.PReLU,layers.Permute,layers.RNN,layers.ReLU,layers.RepeatVector,layers.Reshape,layers.SimpleRNNCell,layers.Softmax,layers.StackedRNNCells,layers.ThresholdedReLU,layers.UpSampling1D,layers.UpSampling2D,layers.UpSampling3D,layers.Wrapper,layers.ZeroPadding1D,layers.ZeroPadding2D,layers.ZeroPadding3D]\n",
    "current = layers.Cropping2D\n",
    "currentArguments = getArgument(current)\n",
    "\n",
    "def argument_cmp_key(x):\n",
    "    args = getArgument(x)\n",
    "    count = 0\n",
    "    for a in currentArguments:\n",
    "        if a in args:\n",
    "            count = count + 1\n",
    "    clen = len(args)\n",
    "    return count * -1, clen * -1, current\n",
    "\n",
    "\n",
    "classes.sort(key=argument_cmp_key)\n",
    "\n",
    "for c in classes:\n",
    "    print(c)\n",
    "\n"
   ]
  },
  {
   "cell_type": "code",
   "execution_count": null,
   "metadata": {},
   "outputs": [],
   "source": []
  }
 ],
 "metadata": {
  "kernelspec": {
   "display_name": "Python 3",
   "language": "python",
   "name": "python3"
  },
  "language_info": {
   "codemirror_mode": {
    "name": "ipython",
    "version": 3
   },
   "file_extension": ".py",
   "mimetype": "text/x-python",
   "name": "python",
   "nbconvert_exporter": "python",
   "pygments_lexer": "ipython3",
   "version": "3.6.6"
  }
 },
 "nbformat": 4,
 "nbformat_minor": 2
}
