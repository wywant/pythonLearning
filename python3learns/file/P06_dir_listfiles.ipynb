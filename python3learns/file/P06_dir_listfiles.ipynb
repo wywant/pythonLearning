{
 "cells": [
  {
   "cell_type": "code",
   "execution_count": 2,
   "metadata": {},
   "outputs": [],
   "source": [
    "import os\n",
    "import os.path\n",
    "import glob\n",
    "from fnmatch import fnmatch"
   ]
  },
  {
   "cell_type": "code",
   "execution_count": 6,
   "metadata": {},
   "outputs": [
    {
     "name": "stdout",
     "output_type": "stream",
     "text": [
      "['.ipynb_checkpoints', 'P01_readfile.ipynb', 'P02_write_file.ipynb', 'P03_readfile_to_string.ipynb', 'P04_write_bytes_to_file.ipynb', 'P05_file_existence.ipynb', 'P06_dir_listfiles.ipynb', 'sample.txt', 'samplewrite.txt', 'samplewrite2.txt', 'somefile.bin']\n"
     ]
    }
   ],
   "source": [
    "names = os.listdir('./')\n",
    "print(names)"
   ]
  },
  {
   "cell_type": "code",
   "execution_count": 7,
   "metadata": {},
   "outputs": [
    {
     "name": "stdout",
     "output_type": "stream",
     "text": [
      "['sample.txt', 'samplewrite.txt', 'samplewrite2.txt']\n"
     ]
    }
   ],
   "source": [
    "names = [name for name in os.listdir('./')\n",
    "            if name.endswith('.txt')]\n",
    "print(names)"
   ]
  },
  {
   "cell_type": "code",
   "execution_count": 10,
   "metadata": {},
   "outputs": [],
   "source": [
    "txtfiles = [name for name in os.listdir('./')\n",
    "            if fnmatch(name, '*.txt')]"
   ]
  },
  {
   "cell_type": "code",
   "execution_count": 11,
   "metadata": {},
   "outputs": [
    {
     "name": "stdout",
     "output_type": "stream",
     "text": [
      "['sample.txt', 'samplewrite.txt', 'samplewrite2.txt']\n"
     ]
    }
   ],
   "source": [
    "print(txtfiles)"
   ]
  },
  {
   "cell_type": "code",
   "execution_count": 14,
   "metadata": {},
   "outputs": [
    {
     "name": "stdout",
     "output_type": "stream",
     "text": [
      "['sample.txt', 'samplewrite.txt', 'samplewrite2.txt']\n"
     ]
    }
   ],
   "source": [
    "txtfiles = glob.glob('*.txt')\n",
    "print(txtfiles)"
   ]
  },
  {
   "cell_type": "code",
   "execution_count": null,
   "metadata": {},
   "outputs": [],
   "source": []
  }
 ],
 "metadata": {
  "kernelspec": {
   "display_name": "Python 3",
   "language": "python",
   "name": "python3"
  },
  "language_info": {
   "codemirror_mode": {
    "name": "ipython",
    "version": 3
   },
   "file_extension": ".py",
   "mimetype": "text/x-python",
   "name": "python",
   "nbconvert_exporter": "python",
   "pygments_lexer": "ipython3",
   "version": "3.6.6"
  }
 },
 "nbformat": 4,
 "nbformat_minor": 2
}
