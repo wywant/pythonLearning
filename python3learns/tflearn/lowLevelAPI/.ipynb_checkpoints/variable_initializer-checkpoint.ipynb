{
 "cells": [
  {
   "cell_type": "code",
   "execution_count": 1,
   "metadata": {},
   "outputs": [
    {
     "name": "stdout",
     "output_type": "stream",
     "text": [
      "a= []\n",
      "b= [23 42]\n",
      "c= [0.]\n",
      "d= [[1.8643606  1.1164869  0.3261113 ]\n",
      " [1.2225063  0.70596665 0.3361357 ]]\n",
      "e= [[2. 2.]]\n",
      "f= [[-0.59709764  0.06847167 -0.68039656 -0.21776128 -0.7522111 ]]\n"
     ]
    }
   ],
   "source": [
    "import tensorflow as tf\n",
    "# https://www.tensorflow.org/guide/variables\n",
    "a = tf.get_variable('a', shape=[0],initializer=tf.zeros_initializer)\n",
    "b = tf.get_variable(\"b\", dtype=tf.int32, initializer=tf.constant([23, 42]))\n",
    "c = tf.get_variable('c', shape=[1],initializer=tf.zeros_initializer())\n",
    "d = tf.get_variable('d', shape=[2,3],initializer=tf.random_normal_initializer())\n",
    "e = tf.get_variable('e',shape=[1,2],initializer=tf.constant_initializer(2.0))\n",
    "f = tf.get_variable('f',shape=[1,5],initializer=tf.glorot_uniform_initializer())\n",
    "with tf.Session() as sess:\n",
    "    sess.run(tf.global_variables_initializer())\n",
    "    av = sess.run(a)\n",
    "    print('a=',av)\n",
    "    bv = sess.run(b)\n",
    "    print('b=',bv)\n",
    "    cv = sess.run(c)\n",
    "    print('c=',cv)\n",
    "    dv = sess.run(d)\n",
    "    print('d=', dv)\n",
    "    ev = sess.run(e)\n",
    "    print('e=', ev)\n",
    "    fv = sess.run(f)\n",
    "    print('f=', fv)\n"
   ]
  },
  {
   "cell_type": "code",
   "execution_count": null,
   "metadata": {},
   "outputs": [],
   "source": []
  }
 ],
 "metadata": {
  "kernelspec": {
   "display_name": "Python 3",
   "language": "python",
   "name": "python3"
  },
  "language_info": {
   "codemirror_mode": {
    "name": "ipython",
    "version": 3
   },
   "file_extension": ".py",
   "mimetype": "text/x-python",
   "name": "python",
   "nbconvert_exporter": "python",
   "pygments_lexer": "ipython3",
   "version": "3.5.2"
  }
 },
 "nbformat": 4,
 "nbformat_minor": 2
}
