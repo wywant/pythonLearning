{
 "cells": [
  {
   "cell_type": "code",
   "execution_count": 1,
   "metadata": {},
   "outputs": [],
   "source": [
    "import tensorflow as tf"
   ]
  },
  {
   "cell_type": "code",
   "execution_count": 2,
   "metadata": {},
   "outputs": [
    {
     "name": "stdout",
     "output_type": "stream",
     "text": [
      "<tf.Variable 'scope_a/hello:0' shape=(1,) dtype=float32_ref>\n",
      "<tf.Variable 'scope_b/hello:0' shape=(1,) dtype=float32_ref>\n",
      "<tf.Variable 'scope_b/hello:0' shape=(1,) dtype=float32_ref>\n"
     ]
    }
   ],
   "source": [
    "with tf.variable_scope(\"scope_a\",reuse=tf.AUTO_REUSE):\n",
    "    a = tf.get_variable('hello',shape=[1])\n",
    "with tf.variable_scope('scope_b', reuse=tf.AUTO_REUSE):\n",
    "    b = tf.get_variable('hello', shape=[1])\n",
    "with tf.variable_scope('scope_b',  reuse=tf.AUTO_REUSE):\n",
    "    c = tf.get_variable('hello',shape=[1])\n",
    "# b and c are same variable, since they are in same scope\n",
    "# a and b are different variables, because they are in different scopes\n",
    "# a and b have different variable names\n",
    "print(a)\n",
    "print(b)\n",
    "print(c)"
   ]
  },
  {
   "cell_type": "code",
   "execution_count": 7,
   "metadata": {},
   "outputs": [
    {
     "name": "stdout",
     "output_type": "stream",
     "text": [
      "[0.96574986]\n",
      "[-0.76136655]\n",
      "[-0.76136655]\n",
      "[ True]\n"
     ]
    }
   ],
   "source": [
    "\n",
    "with tf.Session() as sess:\n",
    "    sess.run(tf.global_variables_initializer())\n",
    "    av, bv,cv = sess.run([a,b,c])\n",
    "    print(av)\n",
    "    print(bv)\n",
    "    print(cv)\n",
    "    print(bv == cv)"
   ]
  },
  {
   "cell_type": "code",
   "execution_count": 8,
   "metadata": {},
   "outputs": [
    {
     "name": "stdout",
     "output_type": "stream",
     "text": [
      "[<tf.Variable 'scope_a/hello:0' shape=(1,) dtype=float32_ref>, <tf.Variable 'scope_b/hello:0' shape=(1,) dtype=float32_ref>]\n"
     ]
    }
   ],
   "source": [
    "trainableVariables = tf.get_collection(tf.GraphKeys.TRAINABLE_VARIABLES)\n",
    "print(trainableVariables)"
   ]
  },
  {
   "cell_type": "code",
   "execution_count": 9,
   "metadata": {},
   "outputs": [
    {
     "name": "stdout",
     "output_type": "stream",
     "text": [
      "[<tf.Variable 'scope_a/hello:0' shape=(1,) dtype=float32_ref>, <tf.Variable 'scope_b/hello:0' shape=(1,) dtype=float32_ref>]\n"
     ]
    }
   ],
   "source": [
    "globalVariables = tf.get_collection(tf.GraphKeys.GLOBAL_VARIABLES )\n",
    "print(globalVariables)"
   ]
  },
  {
   "cell_type": "code",
   "execution_count": 10,
   "metadata": {},
   "outputs": [
    {
     "name": "stdout",
     "output_type": "stream",
     "text": [
      "[]\n"
     ]
    }
   ],
   "source": [
    "localVariables = tf.get_collection(tf.GraphKeys.LOCAL_VARIABLES)\n",
    "print(localVariables)"
   ]
  },
  {
   "cell_type": "code",
   "execution_count": null,
   "metadata": {},
   "outputs": [],
   "source": []
  }
 ],
 "metadata": {
  "kernelspec": {
   "display_name": "Python 3",
   "language": "python",
   "name": "python3"
  },
  "language_info": {
   "codemirror_mode": {
    "name": "ipython",
    "version": 3
   },
   "file_extension": ".py",
   "mimetype": "text/x-python",
   "name": "python",
   "nbconvert_exporter": "python",
   "pygments_lexer": "ipython3",
   "version": "3.5.2"
  }
 },
 "nbformat": 4,
 "nbformat_minor": 2
}
