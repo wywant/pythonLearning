{
 "cells": [
  {
   "cell_type": "code",
   "execution_count": 2,
   "metadata": {},
   "outputs": [
    {
     "name": "stdout",
     "output_type": "stream",
     "text": [
      "[[253.07138 258.00623 251.03697 ... 250.1528  261.38452 256.68616]\n",
      " [249.11784 252.1212  237.70952 ... 239.11995 250.27948 247.72815]\n",
      " [244.3538  249.1102  235.13147 ... 235.04298 248.03961 245.19247]\n",
      " ...\n",
      " [254.39886 256.29813 239.75198 ... 244.46257 255.54082 257.97543]\n",
      " [243.33594 244.15292 237.45595 ... 232.78479 244.53087 246.023  ]\n",
      " [249.75047 264.07632 244.53407 ... 249.3969  258.89545 260.72116]]\n"
     ]
    }
   ],
   "source": [
    "# https://www.tensorflow.org/api_guides/python/io_ops#Placeholders\n",
    "import tensorflow as tf\n",
    "import numpy as np\n",
    "x = tf.placeholder(tf.float32, shape=(1024, 1024))\n",
    "y = tf.matmul(x, x)\n",
    "\n",
    "with tf.Session() as sess:\n",
    "  rand_array = np.random.rand(1024, 1024)\n",
    "  print(sess.run(y, feed_dict={x: rand_array}))"
   ]
  },
  {
   "cell_type": "code",
   "execution_count": null,
   "metadata": {},
   "outputs": [],
   "source": []
  }
 ],
 "metadata": {
  "kernelspec": {
   "display_name": "Python 3",
   "language": "python",
   "name": "python3"
  },
  "language_info": {
   "codemirror_mode": {
    "name": "ipython",
    "version": 3
   },
   "file_extension": ".py",
   "mimetype": "text/x-python",
   "name": "python",
   "nbconvert_exporter": "python",
   "pygments_lexer": "ipython3",
   "version": "3.5.2"
  }
 },
 "nbformat": 4,
 "nbformat_minor": 2
}
