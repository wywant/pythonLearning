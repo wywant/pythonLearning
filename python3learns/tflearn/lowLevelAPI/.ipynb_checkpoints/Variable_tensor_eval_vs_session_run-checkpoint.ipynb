{
 "cells": [
  {
   "cell_type": "code",
   "execution_count": 1,
   "metadata": {},
   "outputs": [],
   "source": [
    "import tensorflow as tf"
   ]
  },
  {
   "cell_type": "code",
   "execution_count": 2,
   "metadata": {},
   "outputs": [
    {
     "name": "stdout",
     "output_type": "stream",
     "text": [
      "5\n",
      "4\n",
      "[5, 4]\n"
     ]
    }
   ],
   "source": [
    "#https://github.com/Kulbear/tensorflow-for-deep-learning-research/issues/2\n",
    "a = tf.Variable(5, name=\"scalar\")\n",
    "b = tf.Variable(4, name=\"scalar\")\n",
    "\n",
    "with tf.Session() as sess:\n",
    "    sess.run(tf.global_variables_initializer())\n",
    "    assert a.eval() == sess.run(a)\n",
    "    print(a.eval())  # 5\n",
    "    print(b.eval())  # 4\n",
    "# Yes, the most important difference is that you can use sess.run() to fetch the values of many tensors[1].    \n",
    "    print(sess.run([a, b]))  # [5, 4]"
   ]
  },
  {
   "cell_type": "code",
   "execution_count": null,
   "metadata": {},
   "outputs": [],
   "source": []
  }
 ],
 "metadata": {
  "kernelspec": {
   "display_name": "Python 3",
   "language": "python",
   "name": "python3"
  },
  "language_info": {
   "codemirror_mode": {
    "name": "ipython",
    "version": 3
   },
   "file_extension": ".py",
   "mimetype": "text/x-python",
   "name": "python",
   "nbconvert_exporter": "python",
   "pygments_lexer": "ipython3",
   "version": "3.5.2"
  }
 },
 "nbformat": 4,
 "nbformat_minor": 2
}
