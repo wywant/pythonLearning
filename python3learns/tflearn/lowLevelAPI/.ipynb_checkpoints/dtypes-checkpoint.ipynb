{
 "cells": [
  {
   "cell_type": "code",
   "execution_count": 1,
   "metadata": {},
   "outputs": [],
   "source": [
    "# https://www.tensorflow.org/api_docs/python/tf/DType\n",
    "import tensorflow as tf"
   ]
  },
  {
   "cell_type": "code",
   "execution_count": 2,
   "metadata": {},
   "outputs": [],
   "source": [
    "c_float16 = tf.constant(3, dtype=tf.float16)\n",
    "c_float32 = tf.constant(3, dtype=tf.float32)\n",
    "c_float64 = tf.constant(3, dtype=tf.float64)\n",
    "## don't know how to define constant with complex64 and complex 128\n",
    "# uint starnds for unsigned integer\n",
    "c_unit64 = tf.constant(3, dtype=tf.uint64)\n",
    "c_string = tf.constant('hello world', dtype=tf.string)\n",
    "# tf.qint8: Quantized 8-bit signed integer. \n",
    "## don't understand what is \"Quantized\"?\n",
    "#c_qint8 = tf.constant(3, dtype=tf.qint8)\n",
    "## don't know how to define a constant with dtype tf.resource\n"
   ]
  },
  {
   "cell_type": "code",
   "execution_count": 3,
   "metadata": {},
   "outputs": [
    {
     "name": "stdout",
     "output_type": "stream",
     "text": [
      "float16 3.0\n",
      "float32 3.0\n",
      "float64 3.0\n",
      "unit64 3\n",
      "string b'hello world'\n"
     ]
    }
   ],
   "source": [
    "with tf.Session() as sess:\n",
    "    print('float16',sess.run(c_float16))\n",
    "    print('float32',sess.run(c_float32))\n",
    "    print('float64',sess.run(c_float64))\n",
    "    print('unit64',sess.run(c_unit64))\n",
    "    print('string',sess.run(c_string))"
   ]
  },
  {
   "cell_type": "code",
   "execution_count": null,
   "metadata": {},
   "outputs": [],
   "source": []
  }
 ],
 "metadata": {
  "kernelspec": {
   "display_name": "Python 3",
   "language": "python",
   "name": "python3"
  },
  "language_info": {
   "codemirror_mode": {
    "name": "ipython",
    "version": 3
   },
   "file_extension": ".py",
   "mimetype": "text/x-python",
   "name": "python",
   "nbconvert_exporter": "python",
   "pygments_lexer": "ipython3",
   "version": "3.5.2"
  }
 },
 "nbformat": 4,
 "nbformat_minor": 2
}
