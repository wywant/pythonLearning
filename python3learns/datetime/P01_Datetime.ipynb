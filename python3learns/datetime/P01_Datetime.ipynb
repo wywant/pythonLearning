{
 "cells": [
  {
   "cell_type": "code",
   "execution_count": 1,
   "metadata": {},
   "outputs": [],
   "source": [
    "from datetime import timedelta\n",
    "from datetime import datetime\n",
    "from dateutil.relativedelta import relativedelta"
   ]
  },
  {
   "cell_type": "code",
   "execution_count": 9,
   "metadata": {},
   "outputs": [
    {
     "name": "stdout",
     "output_type": "stream",
     "text": [
      "2 days, 6:00:00\n",
      "4:30:00\n",
      "2 days, 10:30:00\n",
      "2\n",
      "37800\n",
      "10.5\n",
      "58.5\n"
     ]
    }
   ],
   "source": [
    "    a = timedelta(days=2, hours=6)\n",
    "    print(a)\n",
    "    b = timedelta(hours=4.5)\n",
    "    print(b)\n",
    "    c = a + b\n",
    "    print(c)\n",
    "    print(c.days)\n",
    "    # 37800 / 60 / 60 = 10.5\n",
    "    print(c.seconds)\n",
    "    print(c.seconds / 3600)\n",
    "    print(c.total_seconds() / 3600)"
   ]
  },
  {
   "cell_type": "code",
   "execution_count": 10,
   "metadata": {},
   "outputs": [
    {
     "name": "stdout",
     "output_type": "stream",
     "text": [
      "2012-09-23 00:00:00\n",
      "2012-10-03 00:00:00\n"
     ]
    }
   ],
   "source": [
    "    # 具体的日期\n",
    "    a = datetime(2012, 9, 23)\n",
    "    print(a)\n",
    "    print(a + timedelta(days=10))"
   ]
  },
  {
   "cell_type": "code",
   "execution_count": 4,
   "metadata": {},
   "outputs": [
    {
     "name": "stdout",
     "output_type": "stream",
     "text": [
      "89\n"
     ]
    }
   ],
   "source": [
    "    b = datetime(2012, 12, 21)\n",
    "    d = b - a\n",
    "    print(d.days)"
   ]
  },
  {
   "cell_type": "code",
   "execution_count": 5,
   "metadata": {},
   "outputs": [
    {
     "name": "stdout",
     "output_type": "stream",
     "text": [
      "2018-10-02 18:40:45.709575\n",
      "2018-10-02 18:50:45.709575\n"
     ]
    }
   ],
   "source": [
    "    now = datetime.today()\n",
    "    print(now)\n",
    "    print(now + timedelta(minutes=10))"
   ]
  },
  {
   "cell_type": "code",
   "execution_count": 6,
   "metadata": {},
   "outputs": [
    {
     "name": "stdout",
     "output_type": "stream",
     "text": [
      "2012-10-23 00:00:00\n",
      "2013-01-23 00:00:00\n"
     ]
    }
   ],
   "source": [
    "    # 标准库中datetime模块\n",
    "    a = datetime(2012, 9, 23)\n",
    "    # a + timedelta(months=1)  # 这个会报错\n",
    "\n",
    "    # 使用dateutil模块解决这个问题\n",
    "    print(a + relativedelta(months=+1))\n",
    "    print(a + relativedelta(months=+4))"
   ]
  },
  {
   "cell_type": "code",
   "execution_count": 7,
   "metadata": {},
   "outputs": [
    {
     "name": "stdout",
     "output_type": "stream",
     "text": [
      "89 days, 0:00:00\n"
     ]
    }
   ],
   "source": [
    "    # Time between two dates\n",
    "    b = datetime(2012, 12, 21)\n",
    "    d = b - a\n",
    "    print(d)"
   ]
  },
  {
   "cell_type": "code",
   "execution_count": 8,
   "metadata": {},
   "outputs": [
    {
     "name": "stdout",
     "output_type": "stream",
     "text": [
      "relativedelta(months=+2, days=+28)\n",
      "2 28\n"
     ]
    }
   ],
   "source": [
    "    d = relativedelta(b, a)\n",
    "    print(d)\n",
    "    print(d.months, d.days)"
   ]
  }
 ],
 "metadata": {
  "kernelspec": {
   "display_name": "Python 3",
   "language": "python",
   "name": "python3"
  },
  "language_info": {
   "codemirror_mode": {
    "name": "ipython",
    "version": 3
   },
   "file_extension": ".py",
   "mimetype": "text/x-python",
   "name": "python",
   "nbconvert_exporter": "python",
   "pygments_lexer": "ipython3",
   "version": "3.6.6"
  }
 },
 "nbformat": 4,
 "nbformat_minor": 2
}
