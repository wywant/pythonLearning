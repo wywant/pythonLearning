{
 "cells": [
  {
   "cell_type": "code",
   "execution_count": 1,
   "metadata": {},
   "outputs": [
    {
     "data": {
      "text/plain": [
       "{'In': ['', 'locals()'],\n",
       " 'Out': {},\n",
       " '_': '',\n",
       " '__': '',\n",
       " '___': '',\n",
       " '__builtin__': <module 'builtins' (built-in)>,\n",
       " '__builtins__': <module 'builtins' (built-in)>,\n",
       " '__doc__': 'Automatically created module for IPython interactive environment',\n",
       " '__loader__': None,\n",
       " '__name__': '__main__',\n",
       " '__package__': None,\n",
       " '__spec__': None,\n",
       " '_dh': ['/sapmnt/HOME/i075883/tensorflow/python3learns/build-in'],\n",
       " '_i': '',\n",
       " '_i1': 'locals()',\n",
       " '_ih': ['', 'locals()'],\n",
       " '_ii': '',\n",
       " '_iii': '',\n",
       " '_oh': {},\n",
       " 'exit': <IPython.core.autocall.ZMQExitAutocall at 0x7f8886d21f28>,\n",
       " 'get_ipython': <bound method InteractiveShell.get_ipython of <ipykernel.zmqshell.ZMQInteractiveShell object at 0x7f8886d49fd0>>,\n",
       " 'quit': <IPython.core.autocall.ZMQExitAutocall at 0x7f8886d21f28>}"
      ]
     },
     "execution_count": 1,
     "metadata": {},
     "output_type": "execute_result"
    }
   ],
   "source": [
    "locals()"
   ]
  },
  {
   "cell_type": "code",
   "execution_count": 2,
   "metadata": {},
   "outputs": [
    {
     "data": {
      "text/plain": [
       "{'In': ['', 'locals()', \"abc = ['a','b','c']\\nlocals()\"],\n",
       " 'Out': {1: {...}},\n",
       " '_': {...},\n",
       " '_1': {...},\n",
       " '__': '',\n",
       " '___': '',\n",
       " '__builtin__': <module 'builtins' (built-in)>,\n",
       " '__builtins__': <module 'builtins' (built-in)>,\n",
       " '__doc__': 'Automatically created module for IPython interactive environment',\n",
       " '__loader__': None,\n",
       " '__name__': '__main__',\n",
       " '__package__': None,\n",
       " '__spec__': None,\n",
       " '_dh': ['/sapmnt/HOME/i075883/tensorflow/python3learns/build-in'],\n",
       " '_i': 'locals()',\n",
       " '_i1': 'locals()',\n",
       " '_i2': \"abc = ['a','b','c']\\nlocals()\",\n",
       " '_ih': ['', 'locals()', \"abc = ['a','b','c']\\nlocals()\"],\n",
       " '_ii': '',\n",
       " '_iii': '',\n",
       " '_oh': {1: {...}},\n",
       " 'abc': ['a', 'b', 'c'],\n",
       " 'exit': <IPython.core.autocall.ZMQExitAutocall at 0x7f8886d21f28>,\n",
       " 'get_ipython': <bound method InteractiveShell.get_ipython of <ipykernel.zmqshell.ZMQInteractiveShell object at 0x7f8886d49fd0>>,\n",
       " 'quit': <IPython.core.autocall.ZMQExitAutocall at 0x7f8886d21f28>}"
      ]
     },
     "execution_count": 2,
     "metadata": {},
     "output_type": "execute_result"
    }
   ],
   "source": [
    "abc = ['a','b','c']\n",
    "locals()"
   ]
  },
  {
   "cell_type": "code",
   "execution_count": null,
   "metadata": {},
   "outputs": [],
   "source": []
  }
 ],
 "metadata": {
  "kernelspec": {
   "display_name": "Python 3",
   "language": "python",
   "name": "python3"
  },
  "language_info": {
   "codemirror_mode": {
    "name": "ipython",
    "version": 3
   },
   "file_extension": ".py",
   "mimetype": "text/x-python",
   "name": "python",
   "nbconvert_exporter": "python",
   "pygments_lexer": "ipython3",
   "version": "3.5.2"
  }
 },
 "nbformat": 4,
 "nbformat_minor": 2
}
