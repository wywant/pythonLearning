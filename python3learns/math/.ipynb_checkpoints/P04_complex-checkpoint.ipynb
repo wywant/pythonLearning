{
 "cells": [
  {
   "cell_type": "code",
   "execution_count": 1,
   "metadata": {},
   "outputs": [
    {
     "name": "stdout",
     "output_type": "stream",
     "text": [
      "(2+4j)\n",
      "(2-4j)\n"
     ]
    }
   ],
   "source": [
    "import cmath\n",
    "a = complex(2, 4)\n",
    "print(a)\n",
    "# 共轭复数\n",
    "print(a.conjugate())"
   ]
  },
  {
   "cell_type": "code",
   "execution_count": 2,
   "metadata": {},
   "outputs": [
    {
     "name": "stdout",
     "output_type": "stream",
     "text": [
      "(3-5j)\n",
      "(3+5j)\n"
     ]
    }
   ],
   "source": [
    "b = 3 - 5j\n",
    "print(b)\n",
    "print(b.conjugate())"
   ]
  },
  {
   "cell_type": "code",
   "execution_count": 3,
   "metadata": {},
   "outputs": [
    {
     "name": "stdout",
     "output_type": "stream",
     "text": [
      "(24.83130584894638-11.356612711218174j)\n",
      "(-11.36423470640106-24.814651485634187j)\n",
      "(1.7989074399478673+1.1117859405028423j)\n"
     ]
    }
   ],
   "source": [
    "# 正弦 余弦 平方根等\n",
    "## 复数的知识都忘记了， sin值还是一个复数\n",
    "print(cmath.sin(a))\n",
    "print(cmath.cos(a))\n",
    "print(cmath.sqrt(a))"
   ]
  },
  {
   "cell_type": "code",
   "execution_count": null,
   "metadata": {},
   "outputs": [],
   "source": []
  }
 ],
 "metadata": {
  "kernelspec": {
   "display_name": "Python 3",
   "language": "python",
   "name": "python3"
  },
  "language_info": {
   "codemirror_mode": {
    "name": "ipython",
    "version": 3
   },
   "file_extension": ".py",
   "mimetype": "text/x-python",
   "name": "python",
   "nbconvert_exporter": "python",
   "pygments_lexer": "ipython3",
   "version": "3.6.6"
  }
 },
 "nbformat": 4,
 "nbformat_minor": 2
}
