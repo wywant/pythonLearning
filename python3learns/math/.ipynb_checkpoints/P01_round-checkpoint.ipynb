{
 "cells": [
  {
   "cell_type": "code",
   "execution_count": 2,
   "metadata": {},
   "outputs": [
    {
     "name": "stdout",
     "output_type": "stream",
     "text": [
      "1.2\n",
      "1.3\n",
      "-1.3\n",
      "1.254\n"
     ]
    }
   ],
   "source": [
    "print(round(1.23, 1))\n",
    "print(round(1.27, 1))\n",
    "print(round(-1.27, 1))\n",
    "print(round(1.25361,3))"
   ]
  },
  {
   "cell_type": "code",
   "execution_count": 6,
   "metadata": {},
   "outputs": [
    {
     "name": "stdout",
     "output_type": "stream",
     "text": [
      "1627730\n",
      "1627700\n",
      "1628000\n"
     ]
    }
   ],
   "source": [
    "# 舍入数为负数\n",
    "a = 1627731\n",
    "print(round(a, -1))\n",
    "print(round(a, -2))\n",
    "print(round(a, -3))"
   ]
  },
  {
   "cell_type": "code",
   "execution_count": 7,
   "metadata": {},
   "outputs": [
    {
     "name": "stdout",
     "output_type": "stream",
     "text": [
      "123460.0\n",
      "123500.0\n",
      "123000.0\n"
     ]
    }
   ],
   "source": [
    "a2 = 123456.321\n",
    "print(round(a2, -1))\n",
    "print(round(a2, -2))\n",
    "print(round(a2, -3))"
   ]
  },
  {
   "cell_type": "code",
   "execution_count": 4,
   "metadata": {},
   "outputs": [
    {
     "name": "stdout",
     "output_type": "stream",
     "text": [
      "1.23\n",
      "1.235\n",
      "value is 1.235\n"
     ]
    }
   ],
   "source": [
    "# 格式化输出\n",
    "x = 1.23456\n",
    "print(format(x, '0.2f'))\n",
    "print(format(x, '0.3f'))\n",
    "print('value is {:0.3f}'.format(x))"
   ]
  },
  {
   "cell_type": "code",
   "execution_count": 5,
   "metadata": {},
   "outputs": [
    {
     "name": "stdout",
     "output_type": "stream",
     "text": [
      "6.300000000000001\n",
      "6.3\n"
     ]
    }
   ],
   "source": [
    "# 不要自以为是的用round去修正一些精度问题\n",
    "a = 2.1\n",
    "b = 4.2\n",
    "c = a + b\n",
    "print(c)\n",
    "c = round(c, 2)  # \"Fix\" result (???)\n",
    "print(c)"
   ]
  }
 ],
 "metadata": {
  "kernelspec": {
   "display_name": "Python 3",
   "language": "python",
   "name": "python3"
  },
  "language_info": {
   "codemirror_mode": {
    "name": "ipython",
    "version": 3
   },
   "file_extension": ".py",
   "mimetype": "text/x-python",
   "name": "python",
   "nbconvert_exporter": "python",
   "pygments_lexer": "ipython3",
   "version": "3.6.6"
  }
 },
 "nbformat": 4,
 "nbformat_minor": 2
}
