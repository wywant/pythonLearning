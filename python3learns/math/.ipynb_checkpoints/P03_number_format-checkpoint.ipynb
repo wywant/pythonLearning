{
 "cells": [
  {
   "cell_type": "code",
   "execution_count": 1,
   "metadata": {},
   "outputs": [
    {
     "name": "stdout",
     "output_type": "stream",
     "text": [
      "1234.57\n"
     ]
    }
   ],
   "source": [
    "x = 1234.56789\n",
    "# Two decimal places of accuracy\n",
    "print(format(x, '0.2f'))"
   ]
  },
  {
   "cell_type": "code",
   "execution_count": 2,
   "metadata": {},
   "outputs": [
    {
     "name": "stdout",
     "output_type": "stream",
     "text": [
      "    1234.6\n"
     ]
    }
   ],
   "source": [
    "# Right justified in 10 chars, one-digit accuracy\n",
    "# 右对齐\n",
    "print(format(x, '>10.1f'))"
   ]
  },
  {
   "cell_type": "code",
   "execution_count": 3,
   "metadata": {},
   "outputs": [
    {
     "name": "stdout",
     "output_type": "stream",
     "text": [
      "1234.6    \n"
     ]
    }
   ],
   "source": [
    "# Left justified\n",
    "# 右对齐\n",
    "print(format(x, '<10.1f'))"
   ]
  },
  {
   "cell_type": "code",
   "execution_count": 4,
   "metadata": {},
   "outputs": [
    {
     "name": "stdout",
     "output_type": "stream",
     "text": [
      "  1234.6  \n"
     ]
    }
   ],
   "source": [
    "# Centered\n",
    "# 居中\n",
    "print(format(x, '^10.1f'))"
   ]
  },
  {
   "cell_type": "code",
   "execution_count": 9,
   "metadata": {},
   "outputs": [
    {
     "name": "stdout",
     "output_type": "stream",
     "text": [
      "1,234.56789\n",
      "1,234.6\n",
      "1,234.6\n"
     ]
    }
   ],
   "source": [
    "# Inclusion of thousands separator\n",
    "print(format(x, ','))\n",
    "print(format(x, '0,.1f'))\n",
    "print(format(x, ',.1f'))"
   ]
  },
  {
   "cell_type": "code",
   "execution_count": 6,
   "metadata": {},
   "outputs": [
    {
     "name": "stdout",
     "output_type": "stream",
     "text": [
      "1.234568e+03\n",
      "1.23E+03\n"
     ]
    }
   ],
   "source": [
    "## 这个地方不理解 指数形式的表示方法\n",
    "print(format(x, 'e'))\n",
    "print(format(x, '0.2E'))"
   ]
  },
  {
   "cell_type": "code",
   "execution_count": 7,
   "metadata": {},
   "outputs": [
    {
     "name": "stdout",
     "output_type": "stream",
     "text": [
      "The value is 1,234.57\n"
     ]
    }
   ],
   "source": [
    "# strings\n",
    "print('The value is {:0,.2f}'.format(x))"
   ]
  },
  {
   "cell_type": "code",
   "execution_count": 8,
   "metadata": {},
   "outputs": [
    {
     "name": "stdout",
     "output_type": "stream",
     "text": [
      "1234.6\n",
      "-1234.6\n"
     ]
    }
   ],
   "source": [
    "print(format(x, '0.1f'))\n",
    "print(format(-x, '0.1f'))"
   ]
  },
  {
   "cell_type": "code",
   "execution_count": null,
   "metadata": {},
   "outputs": [],
   "source": [
    "# 这里主要演示了translate的用法\n",
    "swap_separators = {ord('.'): ',', ord(','): '.'}\n",
    "print(format(x, ',').translate(swap_separators))"
   ]
  }
 ],
 "metadata": {
  "kernelspec": {
   "display_name": "Python 3",
   "language": "python",
   "name": "python3"
  },
  "language_info": {
   "codemirror_mode": {
    "name": "ipython",
    "version": 3
   },
   "file_extension": ".py",
   "mimetype": "text/x-python",
   "name": "python",
   "nbconvert_exporter": "python",
   "pygments_lexer": "ipython3",
   "version": "3.6.6"
  }
 },
 "nbformat": 4,
 "nbformat_minor": 2
}
