{
 "cells": [
  {
   "cell_type": "code",
   "execution_count": 2,
   "metadata": {},
   "outputs": [
    {
     "name": "stdout",
     "output_type": "stream",
     "text": [
      "ACME 50 91.5\n",
      "ACME,50,91.5\n",
      "ACME,50,91.5!!\n",
      "hello\n"
     ]
    }
   ],
   "source": [
    "print('ACME', 50, 91.5)\n",
    "# 分隔符\n",
    "print('ACME', 50, 91.5, sep=',')\n",
    "print('ACME', 50, 91.5, sep=',', end='!!\\n')\n",
    "print('hello')"
   ]
  },
  {
   "cell_type": "code",
   "execution_count": 7,
   "metadata": {},
   "outputs": [
    {
     "name": "stdout",
     "output_type": "stream",
     "text": [
      "ACME,50,91.5\n",
      "['ACME', 50, 91.5]\n",
      "['ACME', 50, 91.5]\n"
     ]
    }
   ],
   "source": [
    "row = ['ACME', 50, 91.5]\n",
    "print(*row, sep=',')\n",
    "# 打印数组\n",
    "print(row)\n",
    "# sep 并没有作用\n",
    "print(row, sep='&')"
   ]
  },
  {
   "cell_type": "code",
   "execution_count": null,
   "metadata": {},
   "outputs": [],
   "source": []
  }
 ],
 "metadata": {
  "kernelspec": {
   "display_name": "Python 3",
   "language": "python",
   "name": "python3"
  },
  "language_info": {
   "codemirror_mode": {
    "name": "ipython",
    "version": 3
   },
   "file_extension": ".py",
   "mimetype": "text/x-python",
   "name": "python",
   "nbconvert_exporter": "python",
   "pygments_lexer": "ipython3",
   "version": "3.6.6"
  }
 },
 "nbformat": 4,
 "nbformat_minor": 2
}
