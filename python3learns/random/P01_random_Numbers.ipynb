{
 "cells": [
  {
   "cell_type": "code",
   "execution_count": 2,
   "metadata": {},
   "outputs": [],
   "source": [
    "import random"
   ]
  },
  {
   "cell_type": "code",
   "execution_count": 3,
   "metadata": {},
   "outputs": [
    {
     "name": "stdout",
     "output_type": "stream",
     "text": [
      "3\n",
      "4\n",
      "3\n",
      "3\n",
      "5\n"
     ]
    }
   ],
   "source": [
    "values = [1, 2, 3, 4, 5, 6]\n",
    "print(random.choice(values))\n",
    "print(random.choice(values))\n",
    "print(random.choice(values))\n",
    "print(random.choice(values))\n",
    "print(random.choice(values))"
   ]
  },
  {
   "cell_type": "code",
   "execution_count": 4,
   "metadata": {},
   "outputs": [
    {
     "name": "stdout",
     "output_type": "stream",
     "text": [
      "[6, 5]\n",
      "[5, 3]\n",
      "[1, 3, 6]\n"
     ]
    }
   ],
   "source": [
    "# 抽取样本\n",
    "print(random.sample(values, 2))\n",
    "print(random.sample(values, 2))\n",
    "print(random.sample(values, 3))"
   ]
  },
  {
   "cell_type": "code",
   "execution_count": 5,
   "metadata": {},
   "outputs": [
    {
     "name": "stdout",
     "output_type": "stream",
     "text": [
      "[6, 2, 1, 5, 4, 3]\n"
     ]
    }
   ],
   "source": [
    "# 打算顺序\n",
    "random.shuffle(values)\n",
    "print(values)"
   ]
  },
  {
   "cell_type": "code",
   "execution_count": 6,
   "metadata": {},
   "outputs": [
    {
     "name": "stdout",
     "output_type": "stream",
     "text": [
      "4\n",
      "5\n",
      "3\n",
      "10\n"
     ]
    }
   ],
   "source": [
    "# 随机整数\n",
    "print(random.randint(0,10))\n",
    "print(random.randint(0,10))\n",
    "print(random.randint(0,10))\n",
    "print(random.randint(0,10))"
   ]
  },
  {
   "cell_type": "code",
   "execution_count": 9,
   "metadata": {},
   "outputs": [
    {
     "name": "stdout",
     "output_type": "stream",
     "text": [
      "226905605219861890656256635479281220067966797385942583903537\n"
     ]
    }
   ],
   "source": [
    "# 随机二进制数的整数返回\n",
    "print(random.getrandbits(200))"
   ]
  },
  {
   "cell_type": "code",
   "execution_count": 8,
   "metadata": {},
   "outputs": [],
   "source": [
    "# 修改随机数生成的种子\n",
    "random.seed() # Seed based on system time or os.urandom()\n",
    "random.seed(12345) # Seed based on integer given\n",
    "random.seed(b'bytedata') # Seed based on byte data"
   ]
  },
  {
   "cell_type": "code",
   "execution_count": null,
   "metadata": {},
   "outputs": [],
   "source": []
  }
 ],
 "metadata": {
  "kernelspec": {
   "display_name": "Python 3",
   "language": "python",
   "name": "python3"
  },
  "language_info": {
   "codemirror_mode": {
    "name": "ipython",
    "version": 3
   },
   "file_extension": ".py",
   "mimetype": "text/x-python",
   "name": "python",
   "nbconvert_exporter": "python",
   "pygments_lexer": "ipython3",
   "version": "3.6.6"
  }
 },
 "nbformat": 4,
 "nbformat_minor": 2
}
