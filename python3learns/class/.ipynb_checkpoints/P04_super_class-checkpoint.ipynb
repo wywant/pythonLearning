{
 "cells": [
  {
   "cell_type": "code",
   "execution_count": 1,
   "metadata": {},
   "outputs": [],
   "source": [
    "class Abc :\n",
    "    def say(self):\n",
    "        print(\"Abc.say()\")\n",
    "class Bcd(Abc):\n",
    "    def say(self):\n",
    "        print(\"Bcd.say()\")"
   ]
  },
  {
   "cell_type": "code",
   "execution_count": 3,
   "metadata": {},
   "outputs": [
    {
     "name": "stdout",
     "output_type": "stream",
     "text": [
      "Abc.say()\n"
     ]
    }
   ],
   "source": [
    "a = Abc()\n",
    "a.say()"
   ]
  },
  {
   "cell_type": "code",
   "execution_count": 4,
   "metadata": {},
   "outputs": [
    {
     "name": "stdout",
     "output_type": "stream",
     "text": [
      "Bcd.say()\n"
     ]
    }
   ],
   "source": [
    "b = Bcd()\n",
    "b.say()"
   ]
  },
  {
   "cell_type": "code",
   "execution_count": 8,
   "metadata": {},
   "outputs": [],
   "source": [
    "class A1 :\n",
    "    def sayA(self):\n",
    "        print('A1.sayA()')\n",
    "class A2 :\n",
    "    def sayB(self):\n",
    "        print(\"A2.sayB()\")\n",
    "class A3(A1, A2):\n",
    "    pass"
   ]
  },
  {
   "cell_type": "code",
   "execution_count": 9,
   "metadata": {},
   "outputs": [
    {
     "name": "stdout",
     "output_type": "stream",
     "text": [
      "A1.sayA()\n",
      "A2.sayB()\n"
     ]
    }
   ],
   "source": [
    "a3 =  A3()\n",
    "a3.sayA()\n",
    "a3.sayB()"
   ]
  },
  {
   "cell_type": "code",
   "execution_count": null,
   "metadata": {},
   "outputs": [],
   "source": []
  }
 ],
 "metadata": {
  "kernelspec": {
   "display_name": "Python 3",
   "language": "python",
   "name": "python3"
  },
  "language_info": {
   "codemirror_mode": {
    "name": "ipython",
    "version": 3
   },
   "file_extension": ".py",
   "mimetype": "text/x-python",
   "name": "python",
   "nbconvert_exporter": "python",
   "pygments_lexer": "ipython3",
   "version": "3.6.6"
  }
 },
 "nbformat": 4,
 "nbformat_minor": 2
}
