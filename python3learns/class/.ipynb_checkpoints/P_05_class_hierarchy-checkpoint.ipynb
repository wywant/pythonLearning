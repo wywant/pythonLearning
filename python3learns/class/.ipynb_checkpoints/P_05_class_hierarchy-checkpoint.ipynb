{
 "cells": [
  {
   "cell_type": "code",
   "execution_count": 1,
   "metadata": {},
   "outputs": [
    {
     "name": "stdout",
     "output_type": "stream",
     "text": [
      "I am Abc\n",
      "I am Bbc\n",
      "I am Abc\n",
      "I am Cbc\n",
      "I am Abc\n",
      "Ebc.__base__= <class '__main__.Abc'>\n",
      "Ebc.__bases__ (<class '__main__.Abc'>, <class '__main__.Bbc'>)\n"
     ]
    }
   ],
   "source": [
    "class Abc :\n",
    "    def say(self):\n",
    "        print('I am Abc')\n",
    "class Bbc :\n",
    "    def say(self):\n",
    "        print('I am Bbc')\n",
    "class Cbc(Abc):\n",
    "    pass\n",
    "class Dbc(Abc):\n",
    "    def say(self):\n",
    "        print('I am Cbc')\n",
    "class Ebc(Abc, Bbc):\n",
    "    pass\n",
    "Abc().say()\n",
    "Bbc().say()\n",
    "Cbc().say()\n",
    "Dbc().say()\n",
    "Ebc().say()\n",
    "print('Ebc.__base__=',Ebc.__base__)\n",
    "print('Ebc.__bases__', Ebc.__bases__)"
   ]
  },
  {
   "cell_type": "code",
   "execution_count": null,
   "metadata": {},
   "outputs": [],
   "source": []
  }
 ],
 "metadata": {
  "kernelspec": {
   "display_name": "Python 3",
   "language": "python",
   "name": "python3"
  },
  "language_info": {
   "codemirror_mode": {
    "name": "ipython",
    "version": 3
   },
   "file_extension": ".py",
   "mimetype": "text/x-python",
   "name": "python",
   "nbconvert_exporter": "python",
   "pygments_lexer": "ipython3",
   "version": "3.6.6"
  }
 },
 "nbformat": 4,
 "nbformat_minor": 2
}
