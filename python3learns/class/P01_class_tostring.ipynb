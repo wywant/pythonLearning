{
 "cells": [
  {
   "cell_type": "code",
   "execution_count": 34,
   "metadata": {},
   "outputs": [],
   "source": [
    "# https://docs.python.org/3.6/reference/datamodel.html#object.__repr__ \n",
    "# 有很多被下划线包围的特殊方法， 有时间看下\n",
    "class Pair:\n",
    "    def __init__(self, x, y):\n",
    "        self.x = x\n",
    "        self.y = y\n",
    "# 解释器环境下调用, 数组里面调用， 或者repr方法\n",
    "    def __repr__(self):\n",
    "        ##不知道{0.x!r}表达式文档\n",
    "        return 'Pair({0.x!r}, {0.y!r})'.format(self)\n",
    "\n",
    "    def __str__(self):\n",
    "        return '({0.x!s}, {0.y!s})'.format(self)\n",
    "    \n",
    "    def __format__(self,f):\n",
    "        print('xxxxxxxx')\n",
    "        print('format is ', f)  \n",
    "        if f == '':\n",
    "            f = '<{0.x!s}, {0.y!s}>'\n",
    "          \n",
    "        return f.format(self)\n",
    "    "
   ]
  },
  {
   "cell_type": "code",
   "execution_count": 35,
   "metadata": {},
   "outputs": [
    {
     "name": "stdout",
     "output_type": "stream",
     "text": [
      "(3, 4)\n"
     ]
    }
   ],
   "source": [
    "p = Pair(3, 4)\n",
    "print(p)"
   ]
  },
  {
   "cell_type": "code",
   "execution_count": 37,
   "metadata": {},
   "outputs": [
    {
     "name": "stdout",
     "output_type": "stream",
     "text": [
      "(3, 4)\n",
      "xxxxxxxx\n",
      "format is  \n",
      "<3, 4>\n",
      "xxxxxxxx\n",
      "format is  \n",
      "<3, 4>\n",
      "\n",
      "@3, 4@\n",
      "xxxxxxxx\n",
      "format is  %{0.x!s}, {0.y!s}%\n",
      "%3, 4%\n"
     ]
    }
   ],
   "source": [
    "# reference https://dbader.org/blog/python-repr-vs-str\n",
    "print(str(p))\n",
    "print(format(p))\n",
    "print('{}'.format(p))\n",
    "print(''.format(p))\n",
    "# 不会调用__format__\n",
    "print('@{0.x!s}, {0.y!s}@'.format(p))\n",
    "# 会调用__format__\n",
    "print(format(p,'%{0.x!s}, {0.y!s}%'))"
   ]
  },
  {
   "cell_type": "code",
   "execution_count": 8,
   "metadata": {},
   "outputs": [
    {
     "name": "stdout",
     "output_type": "stream",
     "text": [
      "Pair(3, 4)\n"
     ]
    }
   ],
   "source": [
    "print(repr(p))"
   ]
  },
  {
   "cell_type": "code",
   "execution_count": 9,
   "metadata": {},
   "outputs": [
    {
     "name": "stdout",
     "output_type": "stream",
     "text": [
      "[Pair(3, 4)]\n"
     ]
    }
   ],
   "source": [
    "ps = [p]\n",
    "print(ps)"
   ]
  },
  {
   "cell_type": "code",
   "execution_count": null,
   "metadata": {},
   "outputs": [],
   "source": []
  }
 ],
 "metadata": {
  "kernelspec": {
   "display_name": "Python 3",
   "language": "python",
   "name": "python3"
  },
  "language_info": {
   "codemirror_mode": {
    "name": "ipython",
    "version": 3
   },
   "file_extension": ".py",
   "mimetype": "text/x-python",
   "name": "python",
   "nbconvert_exporter": "python",
   "pygments_lexer": "ipython3",
   "version": "3.6.6"
  }
 },
 "nbformat": 4,
 "nbformat_minor": 2
}
