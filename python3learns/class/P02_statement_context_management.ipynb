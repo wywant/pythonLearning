{
 "cells": [
  {
   "cell_type": "code",
   "execution_count": 16,
   "metadata": {},
   "outputs": [],
   "source": [
    "class SomeInputStream:\n",
    "    def __init__(self, resource):\n",
    "        self.resource='init'\n",
    "    def __enter__(self):\n",
    "        print('entering')\n",
    "        self.resource='created'\n",
    "    def __exit__(self, exc_ty, exc_val, tb):\n",
    "        print('exiting')\n",
    "        self.resource='destroyed'\n",
    "    "
   ]
  },
  {
   "cell_type": "code",
   "execution_count": 17,
   "metadata": {},
   "outputs": [
    {
     "name": "stdout",
     "output_type": "stream",
     "text": [
      "init\n"
     ]
    }
   ],
   "source": [
    "stream = SomeInputStream('file')\n",
    "print(stream.resource)"
   ]
  },
  {
   "cell_type": "code",
   "execution_count": 18,
   "metadata": {},
   "outputs": [
    {
     "name": "stdout",
     "output_type": "stream",
     "text": [
      "entering\n",
      "created\n",
      "exiting\n",
      "destroyed\n"
     ]
    }
   ],
   "source": [
    "with stream as s:\n",
    "    print(stream.resource)\n",
    "print(stream.resource)"
   ]
  },
  {
   "cell_type": "code",
   "execution_count": null,
   "metadata": {},
   "outputs": [],
   "source": []
  }
 ],
 "metadata": {
  "kernelspec": {
   "display_name": "Python 3",
   "language": "python",
   "name": "python3"
  },
  "language_info": {
   "codemirror_mode": {
    "name": "ipython",
    "version": 3
   },
   "file_extension": ".py",
   "mimetype": "text/x-python",
   "name": "python",
   "nbconvert_exporter": "python",
   "pygments_lexer": "ipython3",
   "version": "3.6.6"
  }
 },
 "nbformat": 4,
 "nbformat_minor": 2
}
